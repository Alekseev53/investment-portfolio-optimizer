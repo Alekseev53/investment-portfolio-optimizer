{
 "cells": [
  {
   "cell_type": "code",
   "execution_count": 3,
   "metadata": {},
   "outputs": [
    {
     "data": {
      "application/vnd.jupyter.widget-view+json": {
       "model_id": "39fcd51a52d84abe902e4ab7f29f5016",
       "version_major": 2,
       "version_minor": 0
      },
      "text/plain": [
       "interactive(children=(IntSlider(value=5, description='N', max=200, min=1), IntSlider(value=365, description='s…"
      ]
     },
     "metadata": {},
     "output_type": "display_data"
    },
    {
     "data": {
      "text/plain": [
       "<function __main__.plot_multiple_datasets(N=5, steps=1000, disp=0.05, interest_rate=0.04)>"
      ]
     },
     "execution_count": 3,
     "metadata": {},
     "output_type": "execute_result"
    }
   ],
   "source": [
    "from ipywidgets import interact, IntSlider\n",
    "import ipywidgets\n",
    "import matplotlib.pyplot as plt\n",
    "import numpy as np\n",
    "\n",
    "def generate_data(steps, disp, last_n_elem=1000,interest_rate=0.4):\n",
    "    last_n_elem = int(last_n_elem)\n",
    "    last  = 0.0\n",
    "    while last <= 0.0:\n",
    "        data = []\n",
    "        for _ in range(steps):\n",
    "            random_step = np.random.uniform(-1, 1)\n",
    "            step_size = disp * random_step + 1 + interest_rate/ 365 + disp / 365\n",
    "            last_step = data[-1] if len(data) > 0 else 1\n",
    "            data.append(last_step * step_size)\n",
    "        last = data[-1]\n",
    "    return data\n",
    "\n",
    "\n",
    "\n",
    "\n",
    "def plot_multiple_datasets(N=5, steps=1000, disp=0.05, interest_rate=0.04):\n",
    "    last_values = []\n",
    "    plt.figure(figsize=(10, 5))\n",
    "\n",
    "    for i in range(N):\n",
    "        data = generate_data(steps, disp, interest_rate)\n",
    "        plt.plot(data, label=\"Data {}\".format(i+1))\n",
    "        last_values.append(data[-1])\n",
    "    \n",
    "    min_val = min(last_values)\n",
    "    max_val = max(last_values)\n",
    "    avg_val = sum(last_values)/len(last_values)\n",
    "    median_val = np.median(last_values)\n",
    "    \n",
    "    plt.scatter([steps]*4, [min_val, max_val, avg_val, median_val], color=['red', 'blue', 'green', 'purple'])\n",
    "    plt.text(steps, min_val, 'Min: {:.2f}'.format(min_val), fontsize=10, verticalalignment='bottom')\n",
    "    plt.text(steps, max_val, 'Max: {:.2f}'.format(max_val), fontsize=10, verticalalignment='top')\n",
    "    plt.text(steps, avg_val, 'Avg: {:.2f}'.format(avg_val), fontsize=10, verticalalignment='bottom')\n",
    "    plt.text(steps, median_val, 'Median: {:.2f}'.format(median_val), fontsize=10, verticalalignment='top')\n",
    "\n",
    "    plt.show()\n",
    "\n",
    "N_widget = IntSlider(min=1, max=200, step=1, value=5)\n",
    "steps_widget = IntSlider(min=1, max=5000, step=5, value=365)\n",
    "disp_widget = ipywidgets.FloatSlider(min=0.0, max=0.5, step=0.000001, value=0.05/365)\n",
    "interest_rate_widget = ipywidgets.FloatSlider(min=-0.1, max=0.16, step=0.01, value=0.04)\n",
    "\n",
    "interact(plot_multiple_datasets, \n",
    "         N=N_widget, \n",
    "         steps=steps_widget, \n",
    "         disp=disp_widget,  \n",
    "         interest_rate=interest_rate_widget)"
   ]
  },
  {
   "cell_type": "code",
   "execution_count": null,
   "metadata": {},
   "outputs": [],
   "source": []
  },
  {
   "cell_type": "code",
   "execution_count": 4,
   "metadata": {},
   "outputs": [
    {
     "data": {
      "application/vnd.jupyter.widget-view+json": {
       "model_id": "85b241d18c5d453aa8bd9e4b3f639040",
       "version_major": 2,
       "version_minor": 0
      },
      "text/plain": [
       "interactive(children=(IntSlider(value=2000, description='N', max=200000, min=100), IntSlider(value=365, descri…"
      ]
     },
     "metadata": {},
     "output_type": "display_data"
    },
    {
     "data": {
      "text/plain": [
       "<function __main__.plot_multiple_datasets(N=5, steps=1000, disp=0.05, interest_rate=0.04)>"
      ]
     },
     "execution_count": 4,
     "metadata": {},
     "output_type": "execute_result"
    }
   ],
   "source": [
    "from ipywidgets import interact, IntSlider\n",
    "import ipywidgets\n",
    "import matplotlib.pyplot as plt\n",
    "import numpy as np\n",
    "from concurrent.futures import ThreadPoolExecutor\n",
    "from math import log10\n",
    "\n",
    "def generate_data(steps, disp, last_n_elem=1000,interest_rate=0.4):\n",
    "    last  = 1.0\n",
    "    for _ in range(steps):\n",
    "        random_step = np.random.uniform(-1, 1)\n",
    "        step_size = disp * random_step + 1 + interest_rate/ 365 #+ disp / 365\n",
    "        last = last * step_size\n",
    "    return last\n",
    "\n",
    "\n",
    "\n",
    "def plot_multiple_datasets(N=5, steps=1000, disp=0.05, interest_rate=0.04):\n",
    "    last_values = []\n",
    "\n",
    "    with ThreadPoolExecutor(max_workers=10) as executor:\n",
    "        tasks = [executor.submit(generate_data, steps, disp, interest_rate) for _ in range(N)]\n",
    "\n",
    "    last_values = [task.result() for task in tasks]\n",
    "\n",
    "    # for i in range(N):\n",
    "    #     last = generate_data(steps, disp, interest_rate)\n",
    "    #     last_values.append(last)\n",
    "\n",
    "    max_val = max(last_values)\n",
    "    avg_val = sum(last_values)/len(last_values)\n",
    "    median_val = np.median(last_values)\n",
    "    var_val = np.var(last_values, ddof=1)\n",
    "\n",
    "    # plot histogram\n",
    "    plt.hist(last_values, density=True, color='c', alpha=0.7,bins=N//(round(log10(N)+10)))\n",
    "    plt.grid(color='gray', linestyle='--', linewidth=0.5)\n",
    "\n",
    "    plt.axvline(max_val, color='blue', linestyle='dashed', linewidth=2)\n",
    "    plt.axvline(avg_val, color='green', linestyle='dashed', linewidth=2)\n",
    "    plt.axvline(median_val, color='purple', linestyle='dashed', linewidth=2)\n",
    "\n",
    "    # add dummy plots for legend entries\n",
    "    plt.plot([], [], ' ', label=\"Max: {:.2f}\".format(max_val))\n",
    "    plt.plot([], [], ' ', label=\"Avg: {:.2f}\".format(avg_val))\n",
    "    plt.plot([], [], ' ', label=\"Median: {:.2f}\".format(median_val))\n",
    "    plt.plot([], [], ' ', label=\"Variance: {:.10f}\".format(var_val))\n",
    "\n",
    "    # show legend\n",
    "    plt.legend()\n",
    "\n",
    "    plt.xlabel(f'Value {N},{steps},{round(disp,2)},{interest_rate}')\n",
    "    plt.ylabel('Frequency')\n",
    "    plt.title('Histogram with statistics')\n",
    "    plt.show()\n",
    "\n",
    "N_widget = IntSlider(min=100, max=200000, step=1, value=2000)\n",
    "steps_widget = IntSlider(min=1, max=5000, step=1, value=365)\n",
    "disp_widget = ipywidgets.FloatSlider(min=0.0, max=0.4, step=0.000001, value=0.01/10)\n",
    "interest_rate_widget = ipywidgets.FloatSlider(min=-0.1, max=0.16, step=0.01, value=0.0)\n",
    "\n",
    "interact(plot_multiple_datasets, \n",
    "         N=N_widget, \n",
    "         steps=steps_widget, \n",
    "         disp=disp_widget,  \n",
    "         interest_rate=interest_rate_widget)"
   ]
  },
  {
   "cell_type": "code",
   "execution_count": null,
   "metadata": {},
   "outputs": [],
   "source": []
  },
  {
   "cell_type": "code",
   "execution_count": 5,
   "metadata": {},
   "outputs": [
    {
     "data": {
      "application/vnd.jupyter.widget-view+json": {
       "model_id": "6a335da9bd6d4ecb8f98d0fbb5268e2b",
       "version_major": 2,
       "version_minor": 0
      },
      "text/plain": [
       "interactive(children=(IntSlider(value=5, description='N', max=2000, min=1), IntSlider(value=1, description='st…"
      ]
     },
     "metadata": {},
     "output_type": "display_data"
    },
    {
     "data": {
      "text/plain": [
       "<function __main__.plot_multiple_datasets(N=5, steps=1000, disp=0.05, interest_rate=0.04)>"
      ]
     },
     "execution_count": 5,
     "metadata": {},
     "output_type": "execute_result"
    }
   ],
   "source": [
    "from ipywidgets import interact, IntSlider\n",
    "import ipywidgets\n",
    "import matplotlib.pyplot as plt\n",
    "import numpy as np\n",
    "\n",
    "\n",
    "def generate_data(steps, disp,interest_rate=0.4):\n",
    "    data = [0] \n",
    "    for _ in range(steps):\n",
    "        random_step = np.random.normal(interest_rate, disp)\n",
    "        last_step = data[-1]\n",
    "        data.append(last_step + random_step)\n",
    "    data = np.exp(data)\n",
    "    return data\n",
    "\n",
    "\n",
    "\n",
    "def plot_multiple_datasets(N=5, steps=1000, disp=0.05, interest_rate=0.04):\n",
    "    last_values = []\n",
    "    plt.figure(figsize=(10, 5))\n",
    "\n",
    "    for i in range(N):\n",
    "        data = generate_data(steps, disp, interest_rate)\n",
    "        plt.plot(data, label=\"Data {}\".format(i+1))\n",
    "        last_values.append(data[-1])\n",
    "    \n",
    "    min_val = min(last_values)\n",
    "    max_val = max(last_values)\n",
    "    avg_val = sum(last_values)/len(last_values)\n",
    "    median_val = np.median(last_values)\n",
    "    \n",
    "    plt.scatter([steps]*4, [min_val, max_val, avg_val, median_val], color=['red', 'blue', 'green', 'purple'])\n",
    "    plt.text(steps, min_val, 'Min: {:.2f}'.format(min_val), fontsize=10, verticalalignment='bottom')\n",
    "    plt.text(steps, max_val, 'Max: {:.2f}'.format(max_val), fontsize=10, verticalalignment='top')\n",
    "    plt.text(steps, avg_val, 'Avg: {:.2f}'.format(avg_val), fontsize=10, verticalalignment='bottom')\n",
    "    plt.text(steps, median_val, 'Median: {:.2f}'.format(median_val), fontsize=10, verticalalignment='top')\n",
    "\n",
    "    plt.show()\n",
    "\n",
    "N_widget = IntSlider(min=1, max=2000, step=1, value=5)\n",
    "steps_widget = IntSlider(min=1, max=2000, step=1, value=1)\n",
    "disp_widget = ipywidgets.FloatSlider(min=0.0, max=0.1, step=0.000001, value=0.05)\n",
    "interest_rate_widget = ipywidgets.FloatSlider(min=-0.1, max=0.16, step=0.01, value=0)\n",
    "\n",
    "interact(plot_multiple_datasets, \n",
    "         N=N_widget, \n",
    "         steps=steps_widget, \n",
    "         disp=disp_widget,  \n",
    "         interest_rate=interest_rate_widget)"
   ]
  },
  {
   "cell_type": "code",
   "execution_count": 49,
   "metadata": {},
   "outputs": [
    {
     "data": {
      "application/vnd.jupyter.widget-view+json": {
       "model_id": "ff16846e8ba347cf9c4e933fd878f223",
       "version_major": 2,
       "version_minor": 0
      },
      "text/plain": [
       "interactive(children=(IntSlider(value=2000, description='N', max=200000, min=1), IntSlider(value=365, descript…"
      ]
     },
     "metadata": {},
     "output_type": "display_data"
    },
    {
     "data": {
      "text/plain": [
       "<function __main__.plot_multiple_datasets(N=5, steps=1000, disp=0.05, interest_rate=0.04)>"
      ]
     },
     "execution_count": 49,
     "metadata": {},
     "output_type": "execute_result"
    }
   ],
   "source": [
    "from ipywidgets import interact, IntSlider\n",
    "import ipywidgets\n",
    "import matplotlib.pyplot as plt\n",
    "import numpy as np\n",
    "from concurrent.futures import ThreadPoolExecutor\n",
    "from math import log10\n",
    "\n",
    "def generate_data(steps, disp,interest_rate=0.4):\n",
    "    last  = 0.0\n",
    "    for _ in range(steps):\n",
    "        random_step = np.random.normal(interest_rate, disp)\n",
    "        last = last + random_step\n",
    "    return np.exp(last)\n",
    "\n",
    "\n",
    "\n",
    "def plot_multiple_datasets(N=5, steps=1000, disp=0.05, interest_rate=0.04):\n",
    "    last_values = []\n",
    "    disp/=10\n",
    "\n",
    "    with ThreadPoolExecutor(max_workers=10) as executor:\n",
    "        tasks = [executor.submit(generate_data, steps, disp, interest_rate) for _ in range(N)]\n",
    "\n",
    "    last_values = [task.result() for task in tasks]\n",
    "\n",
    "    # for i in range(N):\n",
    "    #     last = generate_data(steps, disp, interest_rate)\n",
    "    #     last_values.append(last)\n",
    "\n",
    "    max_val = max(last_values)\n",
    "    min_val = min(last_values)\n",
    "    avg_val = sum(last_values)/len(last_values)\n",
    "    median_val = np.median(last_values)\n",
    "    var_val = np.var(last_values, ddof=1)\n",
    "\n",
    "    # plot histogram\n",
    "    plt.hist(last_values, density=True, color='c', alpha=0.7,bins=N//(round(log10(N)+10)))\n",
    "    plt.grid(color='gray', linestyle='--', linewidth=0.5)\n",
    "\n",
    "    plt.axvline(max_val, color='blue', linestyle='dashed', linewidth=2)\n",
    "    plt.axvline(avg_val, color='green', linestyle='dashed', linewidth=2)\n",
    "    plt.axvline(median_val, color='purple', linestyle='dashed', linewidth=2)\n",
    "\n",
    "    # add dummy plots for legend entries\n",
    "    plt.plot([], [], ' ', label=\"Max: {:.2f}\".format(max_val))\n",
    "    plt.plot([], [], ' ', label=\"Min: {:.2f}\".format(min_val))\n",
    "    plt.plot([], [], ' ', label=\"Avg: {:.2f}\".format(avg_val))\n",
    "    plt.plot([], [], ' ', label=\"Median: {:.2f}\".format(median_val))\n",
    "    plt.plot([], [], ' ', label=\"Variance: {:.10f}\".format(var_val))\n",
    "\n",
    "    # show legend\n",
    "    plt.legend()\n",
    "\n",
    "    plt.xlabel(f'Value {N},{steps},{round(disp,2)},{interest_rate}')\n",
    "    plt.ylabel('Frequency')\n",
    "    plt.title('Histogram with statistics')\n",
    "    plt.show()\n",
    "\n",
    "N_widget = IntSlider(min=1, max=200000, step=1, value=2000)\n",
    "steps_widget = IntSlider(min=1, max=5000, step=1, value=365)\n",
    "disp_widget = ipywidgets.FloatSlider(min=0.0, max=0.5, step=0.000001, value=0.01)#0.05\n",
    "interest_rate_widget = ipywidgets.FloatSlider(min=-0.1, max=0.16, step=0.01, value=0.0)\n",
    "\n",
    "interact(plot_multiple_datasets, \n",
    "         N=N_widget, \n",
    "         steps=steps_widget, \n",
    "         disp=disp_widget,  \n",
    "         interest_rate=interest_rate_widget)"
   ]
  },
  {
   "cell_type": "code",
   "execution_count": 6,
   "metadata": {},
   "outputs": [
    {
     "data": {
      "application/vnd.jupyter.widget-view+json": {
       "model_id": "23040b8c79f34a1a9c2fa3f95500d7bb",
       "version_major": 2,
       "version_minor": 0
      },
      "text/plain": [
       "interactive(children=(IntSlider(value=365, description='t', max=1000, min=1), FloatSlider(value=0.001534246575…"
      ]
     },
     "metadata": {},
     "output_type": "display_data"
    },
    {
     "data": {
      "text/plain": [
       "<function __main__.plot_distribution(t=1, variance=1.0, number_of_points=100, mu=0)>"
      ]
     },
     "execution_count": 6,
     "metadata": {},
     "output_type": "execute_result"
    }
   ],
   "source": [
    "import matplotlib.pyplot as plt\n",
    "import numpy as np\n",
    "import scipy.stats as stats\n",
    "import math\n",
    "from ipywidgets import interact, IntSlider, FloatSlider\n",
    "\n",
    "def plot_distribution(t=1, variance=1.0,number_of_points=100,mu=0):\n",
    "    #number_of_points = 100\n",
    "    #number_of_points=t*100\n",
    "    \n",
    "    \n",
    "    sigma = math.sqrt(variance*t)\n",
    "    mu = -sigma**2 / 2\n",
    "    print(mu)\n",
    "    mean = np.exp(mu + sigma**2 / 2)\n",
    "    \n",
    "    x = np.linspace(0, max(1+mu + 12*sigma,2*mean), number_of_points)\n",
    "\n",
    "    log_x = np.log(x[x>0])\n",
    "    distribution = stats.norm.pdf(log_x, mu, sigma)\n",
    "    #max_distribution = max(distribution)\n",
    "    plt.plot(x[x>0], distribution, label='Log-normal Distribution')\n",
    "    \n",
    "    # Add horizontal line at MAX_VALUE\n",
    "    #plt.axhline(y=max_distribution, color='purple', linestyle='-')\n",
    "\n",
    "    # Calculate mean and variance and add vertical lines for them to the plot\n",
    "    var = (np.exp(sigma**2) - 1) * np.exp(2*mu + sigma**2)\n",
    "    \n",
    "    Mode = np.exp(mu - sigma**2)\n",
    "    #mode_density_value = stats.norm.pdf(np.log(Mode), mu, sigma)\n",
    "    #print(f\"Max___:{max_distribution}\")\n",
    "    #print(f\"Mode_1:{np.exp(mean - var)}\")\n",
    "    print(f\"Mode:{Mode}\")\n",
    "    #print(f\"F(mode):{mode_density_value}\")\n",
    "    print(f\"Var:{var}\")\n",
    "    plt.axvline(x=mean, color='r', linestyle='--')\n",
    "    plt.axvline(x=1, color='g', linestyle='--')\n",
    "\n",
    "    # Update the legend to include mean and variance\n",
    "    plt.legend([\n",
    "        'Log-normal Distribution',\n",
    "        'Mean: {:.2f}'.format(mean),\n",
    "        #'Max Distribution Value: {:.4f}'.format(max_distribution),\n",
    "    ])\n",
    "\n",
    "    plt.show()\n",
    "\n",
    "interact(plot_distribution, \n",
    "         t=IntSlider(min=1, max=1000, step=1, value=365),\n",
    "         variance=FloatSlider(min=0.0001, max=1, step=0.00001, value=0.56/365),\n",
    "         number_of_points=IntSlider(min=100, max=10000000, step=1, value=100),\n",
    "         mu=FloatSlider(min=-0.1, max=0.2, step=0.0000001, value=0))\n",
    "#-0.04/365))"
   ]
  },
  {
   "cell_type": "code",
   "execution_count": 11,
   "metadata": {},
   "outputs": [
    {
     "data": {
      "text/plain": [
       "'--------------------------------------------------------------------------------'"
      ]
     },
     "execution_count": 11,
     "metadata": {},
     "output_type": "execute_result"
    }
   ],
   "source": [
    "'-'*80"
   ]
  },
  {
   "cell_type": "code",
   "execution_count": null,
   "metadata": {},
   "outputs": [],
   "source": []
  }
 ],
 "metadata": {
  "kernelspec": {
   "display_name": "venv",
   "language": "python",
   "name": "python3"
  },
  "language_info": {
   "codemirror_mode": {
    "name": "ipython",
    "version": 3
   },
   "file_extension": ".py",
   "mimetype": "text/x-python",
   "name": "python",
   "nbconvert_exporter": "python",
   "pygments_lexer": "ipython3",
   "version": "3.11.6"
  }
 },
 "nbformat": 4,
 "nbformat_minor": 2
}
