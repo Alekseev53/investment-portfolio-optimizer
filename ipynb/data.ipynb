{
 "cells": [
  {
   "cell_type": "code",
   "execution_count": null,
   "metadata": {},
   "outputs": [],
   "source": [
    "import pandas as pd\n",
    "from datetime import timedelta\n",
    "import psycopg2\n",
    "from psycopg2 import OperationalError\n",
    "\n",
    "def connect_to_db():\n",
    "    try:\n",
    "        connection = psycopg2.connect(\n",
    "            user=\"user\",\n",
    "            password=\"example\",\n",
    "            host=\"127.0.0.1\",\n",
    "            port=\"5432\",\n",
    "            database=\"mydatabase\"\n",
    "        )\n",
    "        #print(\"Connection to PostgreSQL DB successful\")\n",
    "        return connection\n",
    "    except OperationalError as e:\n",
    "        print(f\"The error '{e}' occurred\")\n",
    "        return None\n",
    "\n",
    "\n",
    "def query_spot_data(day):\n",
    "    query = f'''\n",
    "        SELECT symbol, bid1Price, lastprice, time FROM spot_ticker_data\n",
    "        where symbol like '%USDC' and time >= TIMESTAMP '{day}' \n",
    "        ORDER BY time desc;'''\n",
    "    with connect_to_db() as conn:\n",
    "        return pd.read_sql_query(query, conn)\n",
    "\n",
    "def query_option_data(day, day_new_str, active, type_of_option):\n",
    "    query = f'''\n",
    "        SELECT symbol, markprice, underlyingprice, lastprice, time FROM option_ticker_data\n",
    "        where symbol like '{active}-{day_new_str}%{type_of_option}' and time <= TIMESTAMP '{day+timedelta(days=1)}' and time >= TIMESTAMP '{day}' and markprice > 0.01\n",
    "        ORDER BY time desc;'''\n",
    "    with connect_to_db() as conn:\n",
    "        return pd.read_sql_query(query, conn)"
   ]
  },
  {
   "cell_type": "code",
   "execution_count": null,
   "metadata": {},
   "outputs": [],
   "source": [
    "#symbol like 'BTC%{'C'}' and \n",
    "query = f'''SELECT max(start_id) FROM option_ticker_data  '''\n",
    "with connect_to_db() as conn:\n",
    "    ans = pd.read_sql_query(query, conn)"
   ]
  },
  {
   "cell_type": "code",
   "execution_count": null,
   "metadata": {},
   "outputs": [],
   "source": []
  }
 ],
 "metadata": {
  "language_info": {
   "name": "python"
  }
 },
 "nbformat": 4,
 "nbformat_minor": 2
}
